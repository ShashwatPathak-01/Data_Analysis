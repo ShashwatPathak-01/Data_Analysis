{
 "cells": [
  {
   "cell_type": "code",
   "execution_count": 26,
   "id": "bf978c59-8afb-4203-8c09-a71f6d17e87b",
   "metadata": {},
   "outputs": [
    {
     "data": {
      "text/plain": [
       "49782"
      ]
     },
     "execution_count": 26,
     "metadata": {},
     "output_type": "execute_result"
    }
   ],
   "source": [
    "import pandas as pd\n",
    "import sqlite3\n",
    "import matplotlib.pyplot as plt\n",
    "import seaborn as sns\n",
    "\n",
    "df=pd.read_csv('online_sales_dataset.csv')\n",
    "df.head()\n",
    "conn = sqlite3.connect(':memory:')\n",
    "\n",
    "# Write DataFrame to SQL table\n",
    "df.to_sql('my_table', conn, index=False, if_exists='replace')\n"
   ]
  },
  {
   "cell_type": "code",
   "execution_count": 27,
   "id": "806520b7-a1fe-476d-aac1-71d3254bcb3f",
   "metadata": {},
   "outputs": [
    {
     "data": {
      "text/html": [
       "<div>\n",
       "<style scoped>\n",
       "    .dataframe tbody tr th:only-of-type {\n",
       "        vertical-align: middle;\n",
       "    }\n",
       "\n",
       "    .dataframe tbody tr th {\n",
       "        vertical-align: top;\n",
       "    }\n",
       "\n",
       "    .dataframe thead th {\n",
       "        text-align: right;\n",
       "    }\n",
       "</style>\n",
       "<table border=\"1\" class=\"dataframe\">\n",
       "  <thead>\n",
       "    <tr style=\"text-align: right;\">\n",
       "      <th></th>\n",
       "      <th>InvoiceNo</th>\n",
       "      <th>StockCode</th>\n",
       "      <th>Description</th>\n",
       "      <th>Quantity</th>\n",
       "      <th>InvoiceDate</th>\n",
       "      <th>UnitPrice</th>\n",
       "      <th>CustomerID</th>\n",
       "      <th>Country</th>\n",
       "      <th>Discount</th>\n",
       "      <th>PaymentMethod</th>\n",
       "      <th>ShippingCost</th>\n",
       "      <th>Category</th>\n",
       "      <th>SalesChannel</th>\n",
       "      <th>ReturnStatus</th>\n",
       "      <th>ShipmentProvider</th>\n",
       "      <th>WarehouseLocation</th>\n",
       "      <th>OrderPriority</th>\n",
       "    </tr>\n",
       "  </thead>\n",
       "  <tbody>\n",
       "    <tr>\n",
       "      <th>0</th>\n",
       "      <td>221958</td>\n",
       "      <td>SKU_1964</td>\n",
       "      <td>White Mug</td>\n",
       "      <td>38</td>\n",
       "      <td>2020-01-01 00:00</td>\n",
       "      <td>1.71</td>\n",
       "      <td>37039.0</td>\n",
       "      <td>Australia</td>\n",
       "      <td>0.470000</td>\n",
       "      <td>Bank Transfer</td>\n",
       "      <td>10.79</td>\n",
       "      <td>Apparel</td>\n",
       "      <td>In-store</td>\n",
       "      <td>Not Returned</td>\n",
       "      <td>UPS</td>\n",
       "      <td>London</td>\n",
       "      <td>Medium</td>\n",
       "    </tr>\n",
       "    <tr>\n",
       "      <th>1</th>\n",
       "      <td>771155</td>\n",
       "      <td>SKU_1241</td>\n",
       "      <td>White Mug</td>\n",
       "      <td>18</td>\n",
       "      <td>2020-01-01 01:00</td>\n",
       "      <td>41.25</td>\n",
       "      <td>19144.0</td>\n",
       "      <td>Spain</td>\n",
       "      <td>0.190000</td>\n",
       "      <td>paypall</td>\n",
       "      <td>9.51</td>\n",
       "      <td>Electronics</td>\n",
       "      <td>Online</td>\n",
       "      <td>Not Returned</td>\n",
       "      <td>UPS</td>\n",
       "      <td>Rome</td>\n",
       "      <td>Medium</td>\n",
       "    </tr>\n",
       "    <tr>\n",
       "      <th>2</th>\n",
       "      <td>231932</td>\n",
       "      <td>SKU_1501</td>\n",
       "      <td>Headphones</td>\n",
       "      <td>49</td>\n",
       "      <td>2020-01-01 02:00</td>\n",
       "      <td>29.11</td>\n",
       "      <td>50472.0</td>\n",
       "      <td>Germany</td>\n",
       "      <td>0.350000</td>\n",
       "      <td>Bank Transfer</td>\n",
       "      <td>23.03</td>\n",
       "      <td>Electronics</td>\n",
       "      <td>Online</td>\n",
       "      <td>Returned</td>\n",
       "      <td>UPS</td>\n",
       "      <td>Berlin</td>\n",
       "      <td>High</td>\n",
       "    </tr>\n",
       "    <tr>\n",
       "      <th>3</th>\n",
       "      <td>465838</td>\n",
       "      <td>SKU_1760</td>\n",
       "      <td>Desk Lamp</td>\n",
       "      <td>14</td>\n",
       "      <td>2020-01-01 03:00</td>\n",
       "      <td>76.68</td>\n",
       "      <td>96586.0</td>\n",
       "      <td>Netherlands</td>\n",
       "      <td>0.140000</td>\n",
       "      <td>paypall</td>\n",
       "      <td>11.08</td>\n",
       "      <td>Accessories</td>\n",
       "      <td>Online</td>\n",
       "      <td>Not Returned</td>\n",
       "      <td>Royal Mail</td>\n",
       "      <td>Rome</td>\n",
       "      <td>Low</td>\n",
       "    </tr>\n",
       "    <tr>\n",
       "      <th>4</th>\n",
       "      <td>359178</td>\n",
       "      <td>SKU_1386</td>\n",
       "      <td>USB Cable</td>\n",
       "      <td>-30</td>\n",
       "      <td>2020-01-01 04:00</td>\n",
       "      <td>-68.11</td>\n",
       "      <td>NaN</td>\n",
       "      <td>United Kingdom</td>\n",
       "      <td>1.501433</td>\n",
       "      <td>Bank Transfer</td>\n",
       "      <td>NaN</td>\n",
       "      <td>Electronics</td>\n",
       "      <td>In-store</td>\n",
       "      <td>Not Returned</td>\n",
       "      <td>FedEx</td>\n",
       "      <td>NaN</td>\n",
       "      <td>Medium</td>\n",
       "    </tr>\n",
       "  </tbody>\n",
       "</table>\n",
       "</div>"
      ],
      "text/plain": [
       "   InvoiceNo StockCode Description  Quantity       InvoiceDate  UnitPrice  \\\n",
       "0     221958  SKU_1964   White Mug        38  2020-01-01 00:00       1.71   \n",
       "1     771155  SKU_1241   White Mug        18  2020-01-01 01:00      41.25   \n",
       "2     231932  SKU_1501  Headphones        49  2020-01-01 02:00      29.11   \n",
       "3     465838  SKU_1760   Desk Lamp        14  2020-01-01 03:00      76.68   \n",
       "4     359178  SKU_1386   USB Cable       -30  2020-01-01 04:00     -68.11   \n",
       "\n",
       "   CustomerID         Country  Discount  PaymentMethod  ShippingCost  \\\n",
       "0     37039.0       Australia  0.470000  Bank Transfer         10.79   \n",
       "1     19144.0           Spain  0.190000        paypall          9.51   \n",
       "2     50472.0         Germany  0.350000  Bank Transfer         23.03   \n",
       "3     96586.0     Netherlands  0.140000        paypall         11.08   \n",
       "4         NaN  United Kingdom  1.501433  Bank Transfer           NaN   \n",
       "\n",
       "      Category SalesChannel  ReturnStatus ShipmentProvider WarehouseLocation  \\\n",
       "0      Apparel     In-store  Not Returned              UPS            London   \n",
       "1  Electronics       Online  Not Returned              UPS              Rome   \n",
       "2  Electronics       Online      Returned              UPS            Berlin   \n",
       "3  Accessories       Online  Not Returned       Royal Mail              Rome   \n",
       "4  Electronics     In-store  Not Returned            FedEx               NaN   \n",
       "\n",
       "  OrderPriority  \n",
       "0        Medium  \n",
       "1        Medium  \n",
       "2          High  \n",
       "3           Low  \n",
       "4        Medium  "
      ]
     },
     "execution_count": 27,
     "metadata": {},
     "output_type": "execute_result"
    }
   ],
   "source": [
    "df.head()"
   ]
  },
  {
   "cell_type": "code",
   "execution_count": 28,
   "id": "1b75b6b0-ae13-4f28-87d5-92172db44169",
   "metadata": {},
   "outputs": [
    {
     "data": {
      "text/plain": [
       "0"
      ]
     },
     "execution_count": 28,
     "metadata": {},
     "output_type": "execute_result"
    }
   ],
   "source": [
    "df.duplicated().sum()"
   ]
  },
  {
   "cell_type": "code",
   "execution_count": 29,
   "id": "7e74d979-f5f7-40ee-b555-deabb0af57aa",
   "metadata": {},
   "outputs": [
    {
     "name": "stdout",
     "output_type": "stream",
     "text": [
      "<class 'pandas.core.frame.DataFrame'>\n",
      "RangeIndex: 49782 entries, 0 to 49781\n",
      "Data columns (total 17 columns):\n",
      " #   Column             Non-Null Count  Dtype  \n",
      "---  ------             --------------  -----  \n",
      " 0   InvoiceNo          49782 non-null  int64  \n",
      " 1   StockCode          49782 non-null  object \n",
      " 2   Description        49782 non-null  object \n",
      " 3   Quantity           49782 non-null  int64  \n",
      " 4   InvoiceDate        49782 non-null  object \n",
      " 5   UnitPrice          49782 non-null  float64\n",
      " 6   CustomerID         44804 non-null  float64\n",
      " 7   Country            49782 non-null  object \n",
      " 8   Discount           49782 non-null  float64\n",
      " 9   PaymentMethod      49782 non-null  object \n",
      " 10  ShippingCost       47293 non-null  float64\n",
      " 11  Category           49782 non-null  object \n",
      " 12  SalesChannel       49782 non-null  object \n",
      " 13  ReturnStatus       49782 non-null  object \n",
      " 14  ShipmentProvider   49782 non-null  object \n",
      " 15  WarehouseLocation  46297 non-null  object \n",
      " 16  OrderPriority      49782 non-null  object \n",
      "dtypes: float64(4), int64(2), object(11)\n",
      "memory usage: 6.5+ MB\n"
     ]
    }
   ],
   "source": [
    "df.info()"
   ]
  },
  {
   "cell_type": "code",
   "execution_count": 30,
   "id": "7a7beddd-0fa5-452c-83a2-1acdb4c5987b",
   "metadata": {},
   "outputs": [
    {
     "data": {
      "text/plain": [
       "InvoiceNo               0\n",
       "StockCode               0\n",
       "Description             0\n",
       "Quantity                0\n",
       "InvoiceDate             0\n",
       "UnitPrice               0\n",
       "CustomerID           4978\n",
       "Country                 0\n",
       "Discount                0\n",
       "PaymentMethod           0\n",
       "ShippingCost         2489\n",
       "Category                0\n",
       "SalesChannel            0\n",
       "ReturnStatus            0\n",
       "ShipmentProvider        0\n",
       "WarehouseLocation    3485\n",
       "OrderPriority           0\n",
       "dtype: int64"
      ]
     },
     "execution_count": 30,
     "metadata": {},
     "output_type": "execute_result"
    }
   ],
   "source": [
    "df.isnull().sum()"
   ]
  },
  {
   "cell_type": "code",
   "execution_count": 31,
   "id": "a0fc569c-9f1e-4f95-8326-a0e447d88629",
   "metadata": {},
   "outputs": [],
   "source": [
    "df['ShippingCost']=df['ShippingCost'].fillna(0)"
   ]
  },
  {
   "cell_type": "markdown",
   "id": "21b0a971-7a0d-446d-8ea4-1e02c26374ba",
   "metadata": {},
   "source": [
    "replace the value from null to 0 in ShippingCost column"
   ]
  },
  {
   "cell_type": "code",
   "execution_count": 32,
   "id": "6fc21996-996c-4bdd-a642-0332ebe0ede9",
   "metadata": {},
   "outputs": [
    {
     "name": "stdout",
     "output_type": "stream",
     "text": [
      "       InvoiceNo StockCode   Description  Quantity       InvoiceDate  \\\n",
      "0         221958  SKU_1964     White Mug        38  2020-01-01 00:00   \n",
      "1         771155  SKU_1241     White Mug        18  2020-01-01 01:00   \n",
      "2         231932  SKU_1501    Headphones        49  2020-01-01 02:00   \n",
      "3         465838  SKU_1760     Desk Lamp        14  2020-01-01 03:00   \n",
      "4         359178  SKU_1386     USB Cable       -30  2020-01-01 04:00   \n",
      "...          ...       ...           ...       ...               ...   \n",
      "49777     354083  SKU_1562      Blue Pen        25  2025-09-05 01:00   \n",
      "49778     296698  SKU_1930     USB Cable         7  2025-09-05 02:00   \n",
      "49779     177622  SKU_1766  Office Chair        43  2025-09-05 03:00   \n",
      "49780     701213  SKU_1602      Notebook        48  2025-09-05 04:00   \n",
      "49781     772215  SKU_1832     White Mug        30  2025-09-05 05:00   \n",
      "\n",
      "       UnitPrice  CustomerID         Country  Discount  PaymentMethod  \\\n",
      "0           1.71     37039.0       Australia  0.470000  Bank Transfer   \n",
      "1          41.25     19144.0           Spain  0.190000        paypall   \n",
      "2          29.11     50472.0         Germany  0.350000  Bank Transfer   \n",
      "3          76.68     96586.0     Netherlands  0.140000        paypall   \n",
      "4         -68.11         NaN  United Kingdom  1.501433  Bank Transfer   \n",
      "...          ...         ...             ...       ...            ...   \n",
      "49777      70.92     51445.0           Spain  0.200000    Credit Card   \n",
      "49778      51.74     28879.0   United States  0.230000  Bank Transfer   \n",
      "49779      85.25     21825.0        Portugal  0.200000  Bank Transfer   \n",
      "49780      39.64     43199.0  United Kingdom  0.310000        paypall   \n",
      "49781      38.27     53328.0          France  0.100000    Credit Card   \n",
      "\n",
      "       ShippingCost     Category SalesChannel  ReturnStatus ShipmentProvider  \\\n",
      "0             10.79      Apparel     In-store  Not Returned              UPS   \n",
      "1              9.51  Electronics       Online  Not Returned              UPS   \n",
      "2             23.03  Electronics       Online      Returned              UPS   \n",
      "3             11.08  Accessories       Online  Not Returned       Royal Mail   \n",
      "4               NaN  Electronics     In-store  Not Returned            FedEx   \n",
      "...             ...          ...          ...           ...              ...   \n",
      "49777          8.96  Electronics       Online      Returned              UPS   \n",
      "49778         23.55  Electronics       Online  Not Returned            FedEx   \n",
      "49779         16.26    Furniture     In-store  Not Returned            FedEx   \n",
      "49780         28.56      Apparel       Online  Not Returned       Royal Mail   \n",
      "49781          9.13   Stationery       Online  Not Returned              UPS   \n",
      "\n",
      "      WarehouseLocation OrderPriority  \n",
      "0                London        Medium  \n",
      "1                  Rome        Medium  \n",
      "2                Berlin          High  \n",
      "3                  Rome           Low  \n",
      "4                  None        Medium  \n",
      "...                 ...           ...  \n",
      "49777            Berlin        Medium  \n",
      "49778         Amsterdam           Low  \n",
      "49779            London          High  \n",
      "49780            London        Medium  \n",
      "49781              Rome           Low  \n",
      "\n",
      "[49782 rows x 17 columns]\n"
     ]
    }
   ],
   "source": [
    " query='''\n",
    " select * from my_table\n",
    " '''\n",
    "table=pd.read_sql(query,conn)\n",
    "print(table)"
   ]
  },
  {
   "cell_type": "code",
   "execution_count": 33,
   "id": "e6ad7d0c-ba8f-4e42-b39f-05d71334c1d9",
   "metadata": {},
   "outputs": [
    {
     "name": "stdout",
     "output_type": "stream",
     "text": [
      "     total_sum\n",
      "0  60142533.09\n"
     ]
    }
   ],
   "source": [
    "query='''\n",
    "select  sum(UnitPrice*Quantity) as total_sum from my_table\n",
    "'''\n",
    "df_sql=pd.read_sql_query(query,conn)\n",
    "print(df_sql)"
   ]
  },
  {
   "cell_type": "code",
   "execution_count": 34,
   "id": "500493b1-c4b5-4705-afb6-78cc6bcf4afc",
   "metadata": {},
   "outputs": [
    {
     "name": "stdout",
     "output_type": "stream",
     "text": [
      "   total_quantity\n",
      "0         1113740\n"
     ]
    }
   ],
   "source": [
    "query='''\n",
    "select  sum(Quantity) as total_quantity from my_table\n",
    "'''\n",
    "df_sql=pd.read_sql_query(query,conn)\n",
    "print(df_sql)"
   ]
  },
  {
   "cell_type": "code",
   "execution_count": 35,
   "id": "56b6831d-f02d-43c3-83a2-3ec8f7110298",
   "metadata": {},
   "outputs": [
    {
     "name": "stdout",
     "output_type": "stream",
     "text": [
      "       Description  total_quantity\n",
      "0         Backpack          103513\n",
      "1         Blue Pen           99447\n",
      "2        Desk Lamp          102474\n",
      "3       Headphones           97870\n",
      "4         Notebook           98750\n",
      "5     Office Chair          101595\n",
      "6          T-shirt          100842\n",
      "7        USB Cable          103574\n",
      "8       Wall Clock          102745\n",
      "9        White Mug          102541\n",
      "10  Wireless Mouse          100389\n"
     ]
    }
   ],
   "source": [
    "query='''\n",
    "select  Description,sum(Quantity) as total_quantity \n",
    "from my_table \n",
    "group by Description\n",
    "'''\n",
    "df_sql=pd.read_sql_query(query,conn)\n",
    "print(df_sql)"
   ]
  },
  {
   "cell_type": "markdown",
   "id": "ffbf3818-19ef-4eaa-a0cb-d0d8a23b302a",
   "metadata": {},
   "source": [
    "this table shows the number of units ordered for a particular product"
   ]
  },
  {
   "cell_type": "code",
   "execution_count": 41,
   "id": "046e6e98-0ac0-4251-ba59-cf74abed718c",
   "metadata": {},
   "outputs": [
    {
     "name": "stdout",
     "output_type": "stream",
     "text": [
      "       Description  total_quantity   total_sum\n",
      "0         Backpack          103513  5486877.02\n",
      "1         Blue Pen           99447  5438580.02\n",
      "2        Desk Lamp          102474  5507637.53\n",
      "3       Headphones           97870  5425191.40\n",
      "4         Notebook           98750  5339989.94\n",
      "5     Office Chair          101595  5349715.69\n",
      "6          T-shirt          100842  5405819.74\n",
      "7        USB Cable          103574  5582516.70\n",
      "8       Wall Clock          102745  5552274.09\n",
      "9        White Mug          102541  5627055.39\n",
      "10  Wireless Mouse          100389  5426875.57\n"
     ]
    }
   ],
   "source": [
    "query='''\n",
    "select  Description,sum(Quantity) as total_quantity,sum(UnitPrice*Quantity) as total_sum\n",
    "from my_table \n",
    "group by Description\n",
    "order by Description\n",
    "'''\n",
    "df_sql=pd.read_sql_query(query,conn)\n",
    "print(df_sql)"
   ]
  },
  {
   "cell_type": "code",
   "execution_count": 44,
   "id": "fd870ad0-a662-48f9-afc5-b0511552374a",
   "metadata": {},
   "outputs": [
    {
     "data": {
      "text/plain": [
       "[]"
      ]
     },
     "execution_count": 44,
     "metadata": {},
     "output_type": "execute_result"
    },
    {
     "data": {
      "image/png": "[encoded data removed]",
      "text/plain": [
       "<Figure size 1800x600 with 1 Axes>"
      ]
     },
     "metadata": {},
     "output_type": "display_data"
    }
   ],
   "source": [
    "count_values=df['Description'].value_counts()\n",
    "plt.figure(figsize=(18,6))\n",
    "bar=plt.bar(count_values.index,count_values.values)\n",
    "plt.title('Status of order')\n",
    "plt.xlabel('status')\n",
    "plt.ylabel('number of order')\n",
    "plt.bar_label(bar)\n",
    "plt.xticks(rotation=25)\n",
    "plt.plot()"
   ]
  },
  {
   "cell_type": "code",
   "execution_count": null,
   "id": "d234f527-a10f-4b20-8abc-afb448865d6a",
   "metadata": {},
   "outputs": [],
   "source": []
  }
 ],
 "metadata": {
  "kernelspec": {
   "display_name": "Python 3 (ipykernel)",
   "language": "python",
   "name": "python3"
  },
  "language_info": {
   "codemirror_mode": {
    "name": "ipython",
    "version": 3
   },
   "file_extension": ".py",
   "mimetype": "text/x-python",
   "name": "python",
   "nbconvert_exporter": "python",
   "pygments_lexer": "ipython3",
   "version": "3.12.7"
  }
 },
 "nbformat": 4,
 "nbformat_minor": 5
}
